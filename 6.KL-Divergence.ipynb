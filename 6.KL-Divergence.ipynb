{
 "cells": [
  {
   "cell_type": "code",
   "execution_count": null,
   "metadata": {
    "collapsed": true
   },
   "outputs": [],
   "source": [
    "from __future__ import division\n",
    "import numpy as np\n",
    "from numpy import linalg as LA\n",
    "#np.seterr(divide='ignore') # these warnings are usually harmless for this code\n",
    "from matplotlib import pyplot as plt\n",
    "import matplotlib\n",
    "%matplotlib inline\n",
    "import os\n",
    "import scipy.stats as stats\n",
    "import pyhsmm\n",
    "from pyhsmm.util.text import progprint_xrange\n",
    "import pyhsmm.basic.distributions as distributions\n",
    "import scipy.io as sio\n",
    "import csv\n",
    "import copy\n",
    "import time\n",
    "import pickle \n",
    "from sklearn import preprocessing\n",
    "from numpy import linalg as LA\n",
    "import scipy\n",
    "import math"
   ]
  },
  {
   "cell_type": "code",
   "execution_count": null,
   "metadata": {
    "collapsed": false
   },
   "outputs": [],
   "source": [
    "#load valide vehicle data\n",
    "filename = 'device10153_satis.sav'\n",
    "device10153_satis= pickle.load(open(filename, 'rb'))\n",
    "print(device10153_satis[0:2])\n",
    "mul = np.array([[1,0,0,0,0],[0,10,0,0,0],[0,0,1,0,0],[0,0,0,100,0],[0,0,0,0,10]])\n",
    "device10153_satis[:,2:7] = np.dot(device10153_satis[:,2:7],mul)\n",
    "print(device10153_satis[0:2])\n",
    "device10153_trip298_satis = device10153_satis"
   ]
  },
  {
   "cell_type": "code",
   "execution_count": null,
   "metadata": {
    "collapsed": false
   },
   "outputs": [],
   "source": [
    "#load cluster data\n",
    "filename = 'statis_after_cluster_95_acc_scaled.sav'\n",
    "cluster_statis = pickle.load(open(filename, 'rb'))\n",
    "print(cluster_statis.shape)"
   ]
  },
  {
   "cell_type": "code",
   "execution_count": null,
   "metadata": {
    "collapsed": false
   },
   "outputs": [],
   "source": [
    "#calculate KL divergence\n",
    "cluster = 200\n",
    "nearest = []\n",
    "kl_value = []\n",
    "for valid in range(device10153_trip298_satis.shape[0]):\n",
    "    kl_list = []\n",
    "    for clus in range(cluster):\n",
    "        clus_ind = clus + 1\n",
    "        # cluster \n",
    "        m1 = np.array([cluster_statis[clus,0],cluster_statis[clus,1]])\n",
    "        c1 = np.array([[cluster_statis[clus,2],cluster_statis[clus,4]],[cluster_statis[clus,4],cluster_statis[clus,3]]])\n",
    "        c1_inv = np.linalg.inv(c1)\n",
    "        m2 = np.array([device10153_trip298_satis[valid,2],device10153_trip298_satis[valid,3]])\n",
    "        c2 = np.array([[device10153_trip298_satis[valid,4],device10153_trip298_satis[valid,6]],\n",
    "                      [device10153_trip298_satis[valid,6],device10153_trip298_satis[valid,5]]])\n",
    "        c2_squaroot = scipy.linalg.sqrtm(c2)\n",
    "        c2_inv = np.linalg.inv(c2)\n",
    "        #tra = np.matrix.trace(c1+c2-2*scipy.linalg.sqrtm(c2_squaroot*c1*c2_squaroot))\n",
    "        #print(tra)\n",
    "        \n",
    "        kl_temp1 = np.matrix.trace(np.dot(c2_inv,c1))\n",
    "        kl_temp2 = np.dot((m2-m1).T,c2_inv)\n",
    "        kl_temp2 = np.dot(kl_temp2,(m2-m1))-2\n",
    "        temp = np.linalg.det(c2)/np.linalg.det(c1)\n",
    "        print('temp',temp)\n",
    "        kl_temp3 = math.log(temp)\n",
    "        kl = kl_temp1 + kl_temp2 + kl_temp3\n",
    "        kl_list.append(kl)\n",
    "    kl_array = np.array(kl_list)\n",
    "    #print(kl_array)\n",
    "    near = np.argmin(kl_array)+1\n",
    "    print(kl_array[near-1])\n",
    "    kl_value.append(kl_array[near-1])\n",
    "    nearest.append(near)\n",
    "    #below used for debuging. No other purpose\n",
    "    #if valid == 2:\n",
    "     #   break"
   ]
  },
  {
   "cell_type": "code",
   "execution_count": null,
   "metadata": {
    "collapsed": false
   },
   "outputs": [],
   "source": [
    "# check the nearest in the other direction\n",
    "cluster = 200\n",
    "nearest = []\n",
    "kl_value = []\n",
    "\n",
    "for clus in range(cluster):\n",
    "    kl_list = []\n",
    "    for valid in range(device10153_trip298_satis.shape[0]):\n",
    "        m1 = np.array([cluster_statis[clus,0],cluster_statis[clus,1]])\n",
    "        c1 = np.array([[cluster_statis[clus,2],cluster_statis[clus,4]],[cluster_statis[clus,4],cluster_statis[clus,3]]])\n",
    "        c1_inv = np.linalg.inv(c1)\n",
    "        m2 = np.array([device10153_trip298_satis[valid,2],device10153_trip298_satis[valid,3]])\n",
    "        c2 = np.array([[device10153_trip298_satis[valid,4],device10153_trip298_satis[valid,6]],\n",
    "                      [device10153_trip298_satis[valid,6],device10153_trip298_satis[valid,5]]])\n",
    "        print(c2)\n",
    "        c2_squaroot = scipy.linalg.sqrtm(c2)\n",
    "        c2_inv = np.linalg.inv(c2)\n",
    "        #tra = np.matrix.trace(c1+c2-2*scipy.linalg.sqrtm(c2_squaroot*c1*c2_squaroot))\n",
    "        #print(tra)\n",
    "        \n",
    "        kl_temp1 = np.matrix.trace(np.dot(c2_inv,c1))\n",
    "        kl_temp2 = np.dot((m2-m1).T,c2_inv)\n",
    "        temp = np.linalg.det(c2)/np.linalg.det(c1)\n",
    "        print('temp',temp)\n",
    "        kl_temp3 = math.log(temp)\n",
    "        kl = kl_temp1 + kl_temp2 + kl_temp3\n",
    "        kl_list.append(kl)\n",
    "    kl_array = np.array(kl_list)\n",
    "    #print(kl_array)\n",
    "    near = np.argmin(kl_array)+1\n",
    "    print(kl_array[near-1])\n",
    "    kl_value.append(kl_array[near-1])\n",
    "    nearest.append(near)\n",
    "        if valid == 2:\n",
    "            break"
   ]
  },
  {
   "cell_type": "code",
   "execution_count": null,
   "metadata": {
    "collapsed": true
   },
   "outputs": [],
   "source": [
    "filename = 'device10153_trip298_kl_nearest.sav'\n",
    "pickle.dump(nearest, open(filename, 'wb'))\n",
    "\n",
    "import xlsxwriter\n",
    "\n",
    "workbook = xlsxwriter.Workbook('device10153_trip298_kl_nearest.xlsx')\n",
    "worksheet = workbook.add_worksheet()\n",
    "import pandas as pd\n",
    "\n",
    "## convert your array into a dataframe\n",
    "df = pd.DataFrame (np.array(nearest))\n",
    "\n",
    "## save to xlsx file\n",
    "\n",
    "filepath = 'device10153_trip298_kl_nearest.xlsx'\n",
    "\n",
    "df.to_excel(filepath, index=False)"
   ]
  },
  {
   "cell_type": "code",
   "execution_count": null,
   "metadata": {
    "collapsed": false
   },
   "outputs": [],
   "source": [
    "import xlsxwriter\n",
    "kl_value = np.array(kl_value)\n",
    "workbook = xlsxwriter.Workbook('kl_value.xlsx')\n",
    "worksheet = workbook.add_worksheet()\n",
    "import pandas as pd\n",
    "\n",
    "## convert your array into a dataframe\n",
    "df = pd.DataFrame (kl_value.T)\n",
    "\n",
    "## save to xlsx file\n",
    "\n",
    "filepath = 'kl_value.xlsx'\n",
    "\n",
    "df.to_excel(filepath, index=False)"
   ]
  },
  {
   "cell_type": "code",
   "execution_count": null,
   "metadata": {
    "collapsed": true
   },
   "outputs": [],
   "source": []
  }
 ],
 "metadata": {
  "kernelspec": {
   "display_name": "Python 3",
   "language": "python",
   "name": "python3"
  },
  "language_info": {
   "codemirror_mode": {
    "name": "ipython",
    "version": 3
   },
   "file_extension": ".py",
   "mimetype": "text/x-python",
   "name": "python",
   "nbconvert_exporter": "python",
   "pygments_lexer": "ipython3",
   "version": "3.5.4"
  }
 },
 "nbformat": 4,
 "nbformat_minor": 0
}
