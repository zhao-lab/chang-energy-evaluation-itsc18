{
 "cells": [
  {
   "cell_type": "code",
   "execution_count": 1,
   "metadata": {
    "collapsed": true
   },
   "outputs": [],
   "source": [
    "from __future__ import division\n",
    "import numpy as np\n",
    "from numpy import linalg as LA\n",
    "#np.seterr(divide='ignore') # these warnings are usually harmless for this code\n",
    "from matplotlib import pyplot as plt\n",
    "import matplotlib\n",
    "%matplotlib inline\n",
    "import os\n",
    "import scipy.stats as stats\n",
    "import pyhsmm\n",
    "from pyhsmm.util.text import progprint_xrange\n",
    "import pyhsmm.basic.distributions as distributions\n",
    "import scipy.io as sio\n",
    "import csv\n",
    "import copy\n",
    "import time\n",
    "import pickle\n",
    "from sqlalchemy.orm import sessionmaker\n",
    "from sqlalchemy import Table, MetaData, Column, Integer, String\n",
    "from sqlalchemy import create_engine\n",
    "from sqlalchemy.ext.declarative import declarative_base\n",
    "from sklearn import preprocessing"
   ]
  },
  {
   "cell_type": "code",
   "execution_count": null,
   "metadata": {
    "collapsed": true
   },
   "outputs": [],
   "source": [
    "filename = 'data_devices_trip.sav'\n",
    "data_devices_trip = pickle.load(open(filename, 'rb'))"
   ]
  },
  {
   "cell_type": "code",
   "execution_count": 2,
   "metadata": {
    "collapsed": true
   },
   "outputs": [],
   "source": [
    "#EEFECTS: return new data in form: data = {} and data[device]={\"trip\":[]}\n",
    "def dataTransform(data_devices):\n",
    "    data = {}\n",
    "    for i, devi in enumerate(data_devices):\n",
    "        #print(i, devi)\n",
    "        data[devi] = {}\n",
    "        for ii in range(data_devices[devi].shape[0]):\n",
    "            data_temp = data_devices[devi][ii]\n",
    "            trip = int(data_temp[0])\n",
    "            speed = data_temp[1]\n",
    "            acc = data_temp[2]\n",
    "            try:\n",
    "                data[devi][trip].append([speed,acc])\n",
    "            except:\n",
    "                data[devi][trip] = []\n",
    "                data[devi][trip].append([speed,acc])\n",
    "    return data"
   ]
  },
  {
   "cell_type": "code",
   "execution_count": 3,
   "metadata": {
    "collapsed": true
   },
   "outputs": [],
   "source": [
    "# get data_devices_trip = {} and data_devices_trip[device]={\"trip\":[]}\n",
    "filename = 'data_devices.sav'\n",
    "data_devices = pickle.load(open(filename, 'rb'))\n",
    "data_devices_trip = dataTransform(data_devices)\n",
    "#another way to get data_devices_trip, but this way is a little bit slow\n",
    "#filename = 'data_devices_trip.sav'\n",
    "#data_devices_trip = pickle.load(open(filename, 'rb'))"
   ]
  },
  {
   "cell_type": "code",
   "execution_count": null,
   "metadata": {
    "collapsed": false
   },
   "outputs": [],
   "source": [
    "\n",
    "\n",
    "\n",
    "posteriormodels = {}\n",
    "i = 0\n",
    "for devi, value1 in data_devices_trip.items() :\n",
    "#for i, devi in enumerate(data_devices):\n",
    "    print('devi', devi)\n",
    "    if(len(data_devices_trip[devi]) == 0):\n",
    "            print('oops, this is a none set')\n",
    "            continue\n",
    "    else:\n",
    "            posteriormodels[devi]={}\n",
    "            \n",
    "    for trip,value2 in data_devices_trip[devi].items():\n",
    "        print('trip',trip)\n",
    "        data_trip = np.array(data_devices_trip[devi][trip])\n",
    "        \n",
    "        data_scaled = preprocessing.scale(data_trip)#implement data normalization \n",
    "        Nmax = 200 # preset the maximum states\n",
    "        # and some hyperparameters\n",
    "        obs_dim =  data_scaled.shape[1] # data dimensions\n",
    "        obs_hypparams = {'mu_0':np.zeros(np.int(obs_dim)),\n",
    "                        'sigma_0':np.eye(np.int(obs_dim)),\n",
    "                        'kappa_0':0.25, # 0.2 5\n",
    "                        'nu_0':obs_dim+2}\n",
    "        # Define the observation distribution\n",
    "        obs_distns = [pyhsmm.distributions.Gaussian(**obs_hypparams) for state in range(Nmax)]\n",
    "\n",
    "        # Define the posterior inference model\n",
    "        posteriormodels[devi][trip] = pyhsmm.models.WeakLimitStickyHDPHMM(\n",
    "            kappa=6.,alpha=1.,gamma=1.,init_state_concentration=1.,\n",
    "            obs_distns=obs_distns)\n",
    "\n",
    "        # Sampling process, for 100 round\n",
    "        Sampling_step = 100\n",
    "        Sampling_xaxis = range(1,Sampling_step+1)\n",
    "\n",
    "        # Add the data to the model and train\n",
    "        posteriormodels[devi][trip].add_data(data_scaled)\n",
    "        Meth2_LLH = np.zeros((Sampling_step,1))\n",
    "\n",
    "        # Sampling process, for 100 around\n",
    "        for idx in progprint_xrange(Sampling_step):\n",
    "            posteriormodels[devi][trip].resample_model()\n",
    "            #Meth2_LLH[idx] = posteriormodel.log_likelihood()\n",
    "    i = i + 1   \n",
    "    if i == 6:\n",
    "        break\n",
    "        \n",
    "# save the model to disk\n",
    "filename = 'posterior_models_test.sav'\n",
    "pickle.dump(posteriormodels, open(filename, 'wb'))"
   ]
  },
  {
   "cell_type": "code",
   "execution_count": null,
   "metadata": {
    "collapsed": false
   },
   "outputs": [],
   "source": [
    "posteriormodels = {}\n",
    "i = 0\n",
    "for devi, value1 in data_devices_trip.items() :\n",
    "#for i, devi in enumerate(data_devices):\n",
    "    print('devi', devi)\n",
    "    if(len(data_devices_trip[devi]) == 0):\n",
    "            print('oops, this is a none set')\n",
    "            continue\n",
    "    else:\n",
    "            posteriormodels[devi]={}\n",
    "    i = i + 1   \n",
    "    if i == 6:\n",
    "        break            \n",
    "    "
   ]
  },
  {
   "cell_type": "code",
   "execution_count": null,
   "metadata": {
    "collapsed": true
   },
   "outputs": [],
   "source": []
  }
 ],
 "metadata": {
  "kernelspec": {
   "display_name": "Python 3",
   "language": "python",
   "name": "python3"
  },
  "language_info": {
   "codemirror_mode": {
    "name": "ipython",
    "version": 3
   },
   "file_extension": ".py",
   "mimetype": "text/x-python",
   "name": "python",
   "nbconvert_exporter": "python",
   "pygments_lexer": "ipython3",
   "version": "3.5.4"
  }
 },
 "nbformat": 4,
 "nbformat_minor": 0
}
