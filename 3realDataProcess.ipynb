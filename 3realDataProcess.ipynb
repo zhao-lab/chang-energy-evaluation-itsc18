{
 "cells": [
  {
   "cell_type": "code",
   "execution_count": null,
   "metadata": {
    "collapsed": true
   },
   "outputs": [],
   "source": [
    "import xlrd\n",
    "import xlwt\n",
    "import numpy as np\n",
    "import pickle"
   ]
  },
  {
   "cell_type": "code",
   "execution_count": null,
   "metadata": {
    "collapsed": true
   },
   "outputs": [],
   "source": [
    "#REQUIRES: import xlrd, import xlwt, import numpy as np\n",
    "#EEFESCTS: return an array start from row 2 (which is the third row of excel)\n",
    "def read_excel(filename, sheetnumber = 0, row_start = 0):\n",
    "    contentstring = open(filename, 'rb').read()\n",
    "    book = xlrd.open_workbook(file_contents = contentstring)\n",
    "    sheet = book.sheets()[sheetnumber]\n",
    "    array = np.zeros((sheet.ncols, sheet.nrows));\n",
    "    for row in range(sheet.nrows):\n",
    "        #print(sheet.cell(row,col))\n",
    "        if row < row_start:\n",
    "            continue\n",
    "        for col in range(sheet.ncols):\n",
    "            array[col][row-2] = sheet.cell(row,col).value\n",
    "    return array.T\n",
    "            \n",
    "\n",
    "#write_excel('ttttt.xlsx', ['test'], [array])\n",
    "def write_excel(filename, sheetnames, arrays):\n",
    "    if len(sheetnames) != len(arrays):\n",
    "        raise IndexError(\"Array and sheet number must be equal.\")\n",
    "        \n",
    "    book = xlwt.Workbook()\n",
    "    \n",
    "    for name, array in zip(sheetnames, arrays):\n",
    "        sheet = book.add_sheet(name)\n",
    "        cols, rows = array.shape\n",
    "        \n",
    "        for row in range(rows):\n",
    "            for col in range(cols):\n",
    "                sheet.write(row, col, array[col][row])\n",
    "                \n",
    "    book.save(filename)"
   ]
  },
  {
   "cell_type": "code",
   "execution_count": null,
   "metadata": {
    "collapsed": true
   },
   "outputs": [],
   "source": [
    "filename = 'Test1.xlsx'\n",
    "array1 = read_excel(filename, 0, 2)\n",
    "\n",
    "\n",
    "filename = 'Test2.xlsx'\n",
    "array2 = read_excel(filename, 0, 2)\n",
    "\n",
    "filename = 'Test3.xlsx'\n",
    "array3 = read_excel(filename, 0, 2)\n",
    "\n",
    "filename = 'Test4.xlsx'\n",
    "array4 = read_excel(filename, 0, 2)\n",
    "\n",
    "array = np.vstack((array1, array2, array3, array4))\n",
    "# get CAN_AFR[Lambda], CAN_Air_Mass_Flow[g/s], CAN_Battery_SOC[%], CAN_Vehicle_Acceleration[m/s^2], \n",
    "# CAN_Wheel_Speed[kph]\n",
    "#print(array[:,8])\n",
    "CAN_AFR = array[:,6]\n",
    "CAN_Air_Mass_Flow = array[:,8]\n",
    "CAN_Battery_SOC = array[:,69]\n",
    "CAN_Vehicle_Acceleration = array[:,97]\n",
    "CAN_Vehicle_Speed = array[:,98]\n",
    "\n",
    "\n",
    "\n",
    "validate_data = np.hstack((CAN_Vehicle_Speed, CAN_Vehicle_Acceleration, \n",
    "                           CAN_Air_Mass_Flow, CAN_AFR, CAN_Battery_SOC))\n",
    "filename = 'validate_data.sav'\n",
    "pickle.dump(validate_data, open(filename, 'wb'))\n",
    "\n",
    "filename = 'validate_array.sav'\n",
    "pickle.dump(array, open(filename, 'wb'))"
   ]
  }
 ],
 "metadata": {
  "kernelspec": {
   "display_name": "Python 3",
   "language": "python",
   "name": "python3"
  },
  "language_info": {
   "codemirror_mode": {
    "name": "ipython",
    "version": 3
   },
   "file_extension": ".py",
   "mimetype": "text/x-python",
   "name": "python",
   "nbconvert_exporter": "python",
   "pygments_lexer": "ipython3",
   "version": "3.5.4"
  }
 },
 "nbformat": 4,
 "nbformat_minor": 0
}
