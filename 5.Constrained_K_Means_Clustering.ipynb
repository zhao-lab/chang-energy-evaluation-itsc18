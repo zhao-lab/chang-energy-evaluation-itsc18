{
 "cells": [
  {
   "cell_type": "code",
   "execution_count": null,
   "metadata": {
    "collapsed": false
   },
   "outputs": [],
   "source": [
    "import numpy as np\n",
    "import pickle \n",
    "import readline\n",
    "from rpy2 import robjects\n",
    "%load_ext rpy2.ipython"
   ]
  },
  {
   "cell_type": "code",
   "execution_count": null,
   "metadata": {
    "collapsed": false
   },
   "outputs": [],
   "source": [
    "#load primitives data \n",
    "# primitive No; device No; mean of velocity; mean of acc; var of velocity; var of acc;\n",
    "filename = 'data_k_clusters.sav'\n",
    "data_k_clusters = pickle.load(open(filename, 'rb'))\n",
    "data_k_clusters = data_k_clusters[:,2:7]\n",
    "print(data_k_clusters[1:10,:])"
   ]
  },
  {
   "cell_type": "code",
   "execution_count": null,
   "metadata": {
    "collapsed": false
   },
   "outputs": [],
   "source": [
    "#load constrained data, how constrained data constructed see google drive/results/constraints\n",
    "filename = 'constraints_data_95.sav'\n",
    "constraints_data = pickle.load(open(filename, 'rb'))\n",
    "filename = 'devices_constraints_95.sav'\n",
    "devices_constraints = pickle.load(open(filename, 'rb'))\n"
   ]
  },
  {
   "cell_type": "code",
   "execution_count": null,
   "metadata": {
    "collapsed": false
   },
   "outputs": [],
   "source": [
    "#to do: get devices_num dic\n",
    "devices_num = {}\n",
    "for j in devices_constraints:\n",
    "    devices_num[j] =[]\n",
    "for i in range(5688):\n",
    "    dev= constraints_data[i,0]\n",
    "    num= constraints_data[i,1]\n",
    "    devices_num[dev].append(num)\n",
    "print(devices_num)"
   ]
  },
  {
   "cell_type": "code",
   "execution_count": null,
   "metadata": {
    "collapsed": false
   },
   "outputs": [],
   "source": [
    "# to do: constraints combination \n",
    "import itertools\n",
    "constraints = []\n",
    "for device in devices_constraints:\n",
    "    stuff = devices_num[device]\n",
    "    for subset in itertools.combinations(stuff, 2):\n",
    "        constraints.append(subset)\n",
    "constraints = np.array(constraints)\n",
    "print(constraints)"
   ]
  },
  {
   "cell_type": "code",
   "execution_count": null,
   "metadata": {
    "collapsed": true
   },
   "outputs": [],
   "source": [
    "#inpute variables to R\n",
    "%R -i data_k_clusters\n",
    "%R -i constraints"
   ]
  },
  {
   "cell_type": "code",
   "execution_count": null,
   "metadata": {
    "collapsed": false
   },
   "outputs": [],
   "source": [
    "#here, it will take a relative more time. Approximately 2-3days. So be patient.\n",
    "%%R \n",
    "library('conclust')\n",
    "mustLink = matrix(c(1,1),nrow=1)\n",
    "cantLink = constraints\n",
    "k = 200\n",
    "pred = ckmeans(data_k_clusters, k, mustLink, cantLink)"
   ]
  },
  {
   "cell_type": "code",
   "execution_count": null,
   "metadata": {
    "collapsed": false
   },
   "outputs": [],
   "source": [
    "%R -o pred\n",
    "pred"
   ]
  },
  {
   "cell_type": "code",
   "execution_count": null,
   "metadata": {
    "collapsed": false
   },
   "outputs": [],
   "source": [
    "constrained_k_means_cluster_results_95 = np.array(pred);\n",
    "filename = 'constrained_k_means_cluster_results_95.sav'\n",
    "pickle.dump(constrained_k_means_cluster_results_95, open(filename, 'wb'))"
   ]
  },
  {
   "cell_type": "code",
   "execution_count": null,
   "metadata": {
    "collapsed": true
   },
   "outputs": [],
   "source": [
    "filename = 'constrained_k_means_cluster_results.sav'\n",
    "constrained_k_means_cluster_results = pickle.load(open(filename, 'rb'))"
   ]
  }
 ],
 "metadata": {
  "kernelspec": {
   "display_name": "Python 3",
   "language": "python",
   "name": "python3"
  },
  "language_info": {
   "codemirror_mode": {
    "name": "ipython",
    "version": 3
   },
   "file_extension": ".py",
   "mimetype": "text/x-python",
   "name": "python",
   "nbconvert_exporter": "python",
   "pygments_lexer": "ipython3",
   "version": "3.5.4"
  }
 },
 "nbformat": 4,
 "nbformat_minor": 0
}
